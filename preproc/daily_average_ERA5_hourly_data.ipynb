{
 "cells": [
  {
   "cell_type": "code",
   "execution_count": null,
   "id": "5bf5fcfd",
   "metadata": {},
   "outputs": [],
   "source": [
    "## Daily average ERA5 hourly data"
   ]
  },
  {
   "cell_type": "code",
   "execution_count": 3,
   "id": "a2fea43d",
   "metadata": {},
   "outputs": [],
   "source": [
    "%matplotlib inline\n",
    "import time\n",
    "from netCDF4 import Dataset\n",
    "import numpy as np\n",
    "from scipy.interpolate import RectBivariateSpline\n",
    "import matplotlib.pyplot as plt\n",
    "import cartopy.crs as ccrs\n",
    "import cartopy.feature as cfeature\n",
    "import datetime as dt\n",
    "import os\n",
    "import xarray as xr\n",
    "from string import Template\n",
    "from pynextsim.openers import OpenerVariable, Opener\n",
    "from pynextsim.gmshlib import GmshMesh\n"
   ]
  },
  {
   "cell_type": "code",
   "execution_count": 4,
   "id": "2a9ea4d3",
   "metadata": {},
   "outputs": [],
   "source": [
    "# set environment\n",
    "os.environ['INPUT_OBS_DATA_DIR'] = '/home/rheinlender/shared-simstore-ns9829k/data/'\n",
    "os.environ['NEXTSIM_MESH_DIR'] = os.environ['INPUT_OBS_DATA_DIR'] + 'mesh/'\n",
    "\n",
    "# set directories\n",
    "era5_dir = '/home/rheinlender/shared-simstore-ns9829k/data/ERA5/'    \n",
    "GRID_DIR = '/home/rheinlender/shared-simstore-ns9829k/NANUK/NANUK025-I/'\n",
    "INDIR = '/home/rheinlender/shared-simstore-ns9829k/NANUK/NANUK025-ILBOXE140-S/'    \n",
    "NANUK_GRIDDIR = '/home/rheinlender/shared-simstore-ns9829k/NANUK/NANUK025-I/'\n"
   ]
  },
  {
   "cell_type": "code",
   "execution_count": 25,
   "id": "dfeeba63",
   "metadata": {},
   "outputs": [
    {
     "name": "stdout",
     "output_type": "stream",
     "text": [
      "Saving to /home/rheinlender/shared-simstore-ns9829k/data/ERA5/daily/ERA5_msl_y2000_daily.nc\n",
      "Saving to /home/rheinlender/shared-simstore-ns9829k/data/ERA5/daily/ERA5_msl_y2001_daily.nc\n",
      "Saving to /home/rheinlender/shared-simstore-ns9829k/data/ERA5/daily/ERA5_msl_y2002_daily.nc\n",
      "Saving to /home/rheinlender/shared-simstore-ns9829k/data/ERA5/daily/ERA5_msl_y2003_daily.nc\n",
      "Saving to /home/rheinlender/shared-simstore-ns9829k/data/ERA5/daily/ERA5_msl_y2004_daily.nc\n",
      "Saving to /home/rheinlender/shared-simstore-ns9829k/data/ERA5/daily/ERA5_msl_y2005_daily.nc\n",
      "Saving to /home/rheinlender/shared-simstore-ns9829k/data/ERA5/daily/ERA5_msl_y2006_daily.nc\n",
      "Saving to /home/rheinlender/shared-simstore-ns9829k/data/ERA5/daily/ERA5_msl_y2007_daily.nc\n",
      "Saving to /home/rheinlender/shared-simstore-ns9829k/data/ERA5/daily/ERA5_msl_y2008_daily.nc\n",
      "Saving to /home/rheinlender/shared-simstore-ns9829k/data/ERA5/daily/ERA5_msl_y2009_daily.nc\n",
      "Saving to /home/rheinlender/shared-simstore-ns9829k/data/ERA5/daily/ERA5_msl_y2010_daily.nc\n",
      "Saving to /home/rheinlender/shared-simstore-ns9829k/data/ERA5/daily/ERA5_msl_y2011_daily.nc\n",
      "Saving to /home/rheinlender/shared-simstore-ns9829k/data/ERA5/daily/ERA5_msl_y2012_daily.nc\n",
      "Saving to /home/rheinlender/shared-simstore-ns9829k/data/ERA5/daily/ERA5_msl_y2013_daily.nc\n",
      "Saving to /home/rheinlender/shared-simstore-ns9829k/data/ERA5/daily/ERA5_msl_y2014_daily.nc\n",
      "Saving to /home/rheinlender/shared-simstore-ns9829k/data/ERA5/daily/ERA5_msl_y2015_daily.nc\n",
      "Saving to /home/rheinlender/shared-simstore-ns9829k/data/ERA5/daily/ERA5_msl_y2016_daily.nc\n",
      "Saving to /home/rheinlender/shared-simstore-ns9829k/data/ERA5/daily/ERA5_msl_y2017_daily.nc\n",
      "Saving to /home/rheinlender/shared-simstore-ns9829k/data/ERA5/daily/ERA5_msl_y2018_daily.nc\n"
     ]
    }
   ],
   "source": [
    "# Save daily era5 data\n",
    "\n",
    "# input\n",
    "varname='msl'\n",
    "year0 = 2000\n",
    "year1 = 2018\n",
    "\n",
    "basename = f'ERA5_{varname}_y%s_daily.nc'\n",
    "OUT_DIR = '/home/rheinlender/shared-simstore-ns9829k/data/ERA5/daily/'\n",
    "\n",
    "for yr in range(year0, year1+1):\n",
    "    \n",
    "    ds_sel = ds.sel(time=ds['time.year']==yr)\n",
    "\n",
    "    # daily average\n",
    "    ds_daily = ds_sel.resample(time='D').mean(dim='time')\n",
    "    flname =  os.path.join(OUT_DIR, basename %(yr))\n",
    "    \n",
    "    print('Saving to', flname)\n",
    "    \n",
    "    ds_daily.to_netcdf(flname)\n"
   ]
  },
  {
   "cell_type": "code",
   "execution_count": 10,
   "id": "b8707105-1745-4a99-b9ec-2ba60f241d5b",
   "metadata": {},
   "outputs": [
    {
     "name": "stdout",
     "output_type": "stream",
     "text": [
      "Saving to /home/rheinlender/shared-simstore-ns9829k/data/ERA5/daily/ERA5_u10_y2002_daily.nc\n",
      "Saving to /home/rheinlender/shared-simstore-ns9829k/data/ERA5/daily/ERA5_v10_y2002_daily.nc\n",
      "Saving to /home/rheinlender/shared-simstore-ns9829k/data/ERA5/daily/ERA5_u10_y2003_daily.nc\n",
      "Saving to /home/rheinlender/shared-simstore-ns9829k/data/ERA5/daily/ERA5_v10_y2003_daily.nc\n",
      "Saving to /home/rheinlender/shared-simstore-ns9829k/data/ERA5/daily/ERA5_u10_y2004_daily.nc\n",
      "Saving to /home/rheinlender/shared-simstore-ns9829k/data/ERA5/daily/ERA5_v10_y2004_daily.nc\n",
      "Saving to /home/rheinlender/shared-simstore-ns9829k/data/ERA5/daily/ERA5_u10_y2005_daily.nc\n",
      "Saving to /home/rheinlender/shared-simstore-ns9829k/data/ERA5/daily/ERA5_v10_y2005_daily.nc\n",
      "Saving to /home/rheinlender/shared-simstore-ns9829k/data/ERA5/daily/ERA5_u10_y2006_daily.nc\n",
      "Saving to /home/rheinlender/shared-simstore-ns9829k/data/ERA5/daily/ERA5_v10_y2006_daily.nc\n",
      "Saving to /home/rheinlender/shared-simstore-ns9829k/data/ERA5/daily/ERA5_u10_y2007_daily.nc\n",
      "Saving to /home/rheinlender/shared-simstore-ns9829k/data/ERA5/daily/ERA5_v10_y2007_daily.nc\n",
      "Saving to /home/rheinlender/shared-simstore-ns9829k/data/ERA5/daily/ERA5_u10_y2008_daily.nc\n",
      "Saving to /home/rheinlender/shared-simstore-ns9829k/data/ERA5/daily/ERA5_v10_y2008_daily.nc\n",
      "Saving to /home/rheinlender/shared-simstore-ns9829k/data/ERA5/daily/ERA5_u10_y2009_daily.nc\n",
      "Saving to /home/rheinlender/shared-simstore-ns9829k/data/ERA5/daily/ERA5_v10_y2009_daily.nc\n",
      "Saving to /home/rheinlender/shared-simstore-ns9829k/data/ERA5/daily/ERA5_u10_y2010_daily.nc\n",
      "Saving to /home/rheinlender/shared-simstore-ns9829k/data/ERA5/daily/ERA5_v10_y2010_daily.nc\n",
      "Saving to /home/rheinlender/shared-simstore-ns9829k/data/ERA5/daily/ERA5_u10_y2011_daily.nc\n",
      "Saving to /home/rheinlender/shared-simstore-ns9829k/data/ERA5/daily/ERA5_v10_y2011_daily.nc\n",
      "Saving to /home/rheinlender/shared-simstore-ns9829k/data/ERA5/daily/ERA5_u10_y2012_daily.nc\n",
      "Saving to /home/rheinlender/shared-simstore-ns9829k/data/ERA5/daily/ERA5_v10_y2012_daily.nc\n",
      "Saving to /home/rheinlender/shared-simstore-ns9829k/data/ERA5/daily/ERA5_u10_y2013_daily.nc\n",
      "Saving to /home/rheinlender/shared-simstore-ns9829k/data/ERA5/daily/ERA5_v10_y2013_daily.nc\n",
      "Saving to /home/rheinlender/shared-simstore-ns9829k/data/ERA5/daily/ERA5_u10_y2014_daily.nc\n",
      "Saving to /home/rheinlender/shared-simstore-ns9829k/data/ERA5/daily/ERA5_v10_y2014_daily.nc\n",
      "Saving to /home/rheinlender/shared-simstore-ns9829k/data/ERA5/daily/ERA5_u10_y2015_daily.nc\n",
      "Saving to /home/rheinlender/shared-simstore-ns9829k/data/ERA5/daily/ERA5_v10_y2015_daily.nc\n",
      "Saving to /home/rheinlender/shared-simstore-ns9829k/data/ERA5/daily/ERA5_u10_y2016_daily.nc\n",
      "Saving to /home/rheinlender/shared-simstore-ns9829k/data/ERA5/daily/ERA5_v10_y2016_daily.nc\n",
      "Saving to /home/rheinlender/shared-simstore-ns9829k/data/ERA5/daily/ERA5_u10_y2017_daily.nc\n",
      "Saving to /home/rheinlender/shared-simstore-ns9829k/data/ERA5/daily/ERA5_v10_y2017_daily.nc\n",
      "Saving to /home/rheinlender/shared-simstore-ns9829k/data/ERA5/daily/ERA5_u10_y2018_daily.nc\n",
      "Saving to /home/rheinlender/shared-simstore-ns9829k/data/ERA5/daily/ERA5_v10_y2018_daily.nc\n"
     ]
    }
   ],
   "source": [
    "# input\n",
    "\n",
    "varname = ('u10', 'v10')\n",
    "year0 = 2002\n",
    "year1 = 2018\n",
    "\n",
    "name_mask = 'ERA5/ERA5_%s_y%s.nc'\n",
    "outname = f'ERA5_%s_y%s_daily.nc'\n",
    "\n",
    "DATA_DIR = '/home/rheinlender/shared-simstore-ns9829k/data/'\n",
    "OUT_DIR = '/home/rheinlender/shared-simstore-ns9829k/data/ERA5/daily/'\n",
    "\n",
    "for yr in range(year0, year1+1):\n",
    "    \n",
    "    for var in varname:\n",
    "        \n",
    "        ds = xr.open_dataset(os.path.join(DATA_DIR, name_mask %(var,yr)))  \n",
    "    \n",
    "        # daily average\n",
    "        ds_daily = ds.resample(time='D').mean(dim='time')\n",
    "        flname =  os.path.join(OUT_DIR, outname %(var,yr))\n",
    "\n",
    "        print('Saving to', flname)\n",
    "\n",
    "        ds_daily.to_netcdf(flname)\n"
   ]
  }
 ],
 "metadata": {
  "kernelspec": {
   "display_name": "Python 3 (pynextsim)",
   "language": "python",
   "name": "pynextsim"
  },
  "language_info": {
   "codemirror_mode": {
    "name": "ipython",
    "version": 3
   },
   "file_extension": ".py",
   "mimetype": "text/x-python",
   "name": "python",
   "nbconvert_exporter": "python",
   "pygments_lexer": "ipython3",
   "version": "3.11.0"
  }
 },
 "nbformat": 4,
 "nbformat_minor": 5
}
