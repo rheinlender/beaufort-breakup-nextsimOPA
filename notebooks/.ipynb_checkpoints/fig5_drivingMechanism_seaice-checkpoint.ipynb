{
 "cells": [
  {
   "cell_type": "markdown",
   "id": "46effb68-1e25-4d0c-af68-3cc090a5aa8f",
   "metadata": {},
   "source": [
    "## Driving mechanisms of sea ice breakup - Changes in ice properties"
   ]
  },
  {
   "cell_type": "code",
   "execution_count": 6,
   "id": "0f1f7ccd-42f8-4210-9917-ae7159dd0cd1",
   "metadata": {},
   "outputs": [],
   "source": [
    "%matplotlib inline\n",
    "import sys\n",
    "sys.path.append('../src')\n",
    "import xarray as xr\n",
    "import datetime as dt\n",
    "import pandas as pd\n",
    "import numpy as np\n",
    "import cmocean\n",
    "import matplotlib.pyplot as plt\n",
    "import matplotlib.dates as mdates\n",
    "import matplotlib.gridspec as gridspec\n",
    "\n",
    "from pynextsim.projection_info import ProjectionInfo\n",
    "from brkup_utils import lead_detect as lead_det\n",
    "from brkup_utils import process_data\n",
    "from brkup_utils import mask_funcs as msk\n",
    "from brkup_utils.boxnames import *\n",
    "from brkup_utils.calc_deformation_NANUK import calc_deformation_rate\n",
    "from brkup_utils import grid_funcs as grd"
   ]
  },
  {
   "cell_type": "code",
   "execution_count": 7,
   "id": "5664608f-0457-435b-80f4-c72a2763c0c8",
   "metadata": {},
   "outputs": [
    {
     "name": "stdout",
     "output_type": "stream",
     "text": [
      "months: ['01', '02', '03']\n",
      "years: [2000, 2001, 2002, 2003, 2004, 2005, 2006, 2007, 2008, 2009, 2010, 2011, 2012, 2013, 2014, 2015, 2016, 2017, 2018]\n",
      "bbox for Beaufort : (95, 225, 425, 575)\n",
      "DONE!\n"
     ]
    }
   ],
   "source": [
    "# read moorings \n",
    "indir = '/home/rheinlender/shared-simstore-ns9829k/NANUK/NANUK025-ILBOXE140-S/'    \n",
    "\n",
    "months = ['01', '02', '03']\n",
    "years = list(range(2000, 2018+1))\n",
    "region='Beaufort'\n",
    "\n",
    "# subset Beaufort Sea\n",
    "ds = process_data.load_moorings(indir,months,years,region='Beaufort',period=None)\n",
    "\n",
    "# daily average\n",
    "# set all dates to have time at 00h so multiple measurements in a day have the same label\n",
    "ds.coords['time'] = ds.time.dt.floor('1D')\n",
    "ds = ds.groupby('time').mean()\n",
    "\n",
    "# create masks\n",
    "bbox = BOXNAMES[region]\n",
    "Mask = msk.Masking(ds, bbox=bbox)\n",
    "msk_moore22 = Mask.get_Moore2022_Beaufort_mask()\n",
    "\n",
    "# get area info from model grid and add to dataset\n",
    "creg_grid = grd.CREGgrid('../grid_files', bbox)\n",
    "ds['mod_area'] = (('y','x'), creg_grid.get_area())\n",
    "ds['mod_area'].attrs = {'units':'m2', 'long_name':'grid_cell_area'}\n"
   ]
  },
  {
   "cell_type": "markdown",
   "id": "ff6fa497-db69-4942-8f2f-42360be5c6d3",
   "metadata": {
    "tags": []
   },
   "source": [
    "### Calculate ice deformation"
   ]
  },
  {
   "cell_type": "code",
   "execution_count": 8,
   "id": "aae48f4c-db88-4cc8-b0c7-9f3e818e308d",
   "metadata": {},
   "outputs": [
    {
     "name": "stdout",
     "output_type": "stream",
     "text": [
      "bbox for Beaufort : (95, 225, 425, 575)\n"
     ]
    }
   ],
   "source": [
    "# get deltax and deltay from native grid\n",
    "creg_grid_file = '/home/rheinlender/shared-simstore-ns9829k/NANUK/NANUK025-I/mesh_mask_NANUK025_3.6.nc'\n",
    "creg_grid = xr.open_dataset(creg_grid_file)\n",
    "\n",
    "# select beaufort region\n",
    "creg_grid = process_data.subset_data_region(creg_grid, region='Beaufort')\n",
    "\n",
    "dx = creg_grid.e1u.values\n",
    "dy = creg_grid.e1v.values\n",
    "uv = [ds.siu, ds.siv] \n",
    "\n",
    "shear, div, deform = calc_deformation_rate(uv, dx, dy, dt=24*60*60, x_dim=-1, y_dim=-2)\n",
    "\n",
    "ds['shear'] = (('time','y','x'), shear)\n",
    "ds['div'] = (('time','y','x'), div)\n",
    "ds['deform'] = (('time','y','x'), deform)\n",
    "\n",
    "ds.shear.attrs = dict(        \n",
    "        long_name=\"Shear\", \n",
    "        units=\"1/day\",\n",
    "    )\n",
    "\n",
    "ds.div.attrs = dict(        \n",
    "        long_name=\"Divergence\", \n",
    "        units=\"1/day\",\n",
    "    )\n",
    "\n",
    "ds.deform.attrs = dict(        \n",
    "        long_name=\"Total deformation\", \n",
    "        units=\"1/day\",\n",
    "    )"
   ]
  },
  {
   "cell_type": "markdown",
   "id": "1549c447-c128-4e7d-85ad-b4471a50cd6f",
   "metadata": {},
   "source": [
    "### Calculate mean values for Beaufort region"
   ]
  },
  {
   "cell_type": "code",
   "execution_count": 9,
   "id": "e47e75d4-9962-4994-b941-c4f97b863290",
   "metadata": {},
   "outputs": [],
   "source": [
    "# mean damage \n",
    "damage = ds['damage'].where(msk_moore22).mean(dim=('x', 'y'))\n",
    "damage_JFM = damage.groupby('time.year').mean()\n",
    "\n",
    "# deformation\n",
    "deformation = ds['deform'].where(msk_moore22).mean(dim=('x', 'y'))\n",
    "\n",
    "# Ice velocity\n",
    "ds['ice_speed'] = (ds['siu']**2 + ds['siv']**2)**0.5\n",
    "ds['ice_speed'] = ds['ice_speed']*1E2 # in cm/s \n",
    "ds.ice_speed.attrs[\"units\"] = \"cm s-1\" \n",
    "\n",
    "icevel_mean = ds['ice_speed'].where(msk_moore22).mean(dim=('x', 'y'))\n",
    "\n",
    "# Wind speed to ice speed ratio\n",
    "ds['wspeed'] = (ds['wndx']**2 + ds['wndy']**2)**0.5\n",
    "wspeed_BSmean = ds['wspeed'].where(msk_moore22).mean(dim=('x', 'y'))\n",
    "\n",
    "icewind_ratio = (icevel_mean*1E-2) / wspeed_BSmean # both in m/s\n"
   ]
  },
  {
   "cell_type": "markdown",
   "id": "b7f52db2-c2fe-41c2-90a7-2b0426a23330",
   "metadata": {},
   "source": [
    "# Plot Figure 5"
   ]
  },
  {
   "cell_type": "code",
   "execution_count": 16,
   "id": "04e51439-b63c-4695-aead-4b13e7968218",
   "metadata": {},
   "outputs": [
    {
     "data": {
      "image/png": "[encoded data removed]",
      "text/plain": [
       "<Figure size 500x700 with 3 Axes>"
      ]
     },
     "metadata": {},
     "output_type": "display_data"
    }
   ],
   "source": [
    "fig = plt.figure(figsize=(5,7), constrained_layout=False)\n",
    "gs = fig.add_gridspec(nrows=3, ncols=1, left=0.01, right=0.99, wspace=0.3, hspace=0.25)\n",
    "\n",
    "#-- ice speed\n",
    "ax1 = fig.add_subplot(gs[0,:])\n",
    "ax2 = fig.add_subplot(gs[1,:])\n",
    "ax3 = fig.add_subplot(gs[2,:])"
   ]
  },
  {
   "cell_type": "code",
   "execution_count": null,
   "id": "10559265-e14f-4d53-9389-f39ba81a08c8",
   "metadata": {},
   "outputs": [],
   "source": [
    "fig = plt.figure(figsize=(5,6), constrained_layout=False)\n",
    "gs = fig.add_gridspec(nrows=2, ncols=1, left=0.01, right=0.99, wspace=0.3, hspace=0.25)\n",
    "\n",
    "kw1={'alpha': 1, 'linewidth':1.5}\n",
    "kw = {'marker':'o', 'markersize':5, 'markeredgecolor':'C0', 'markerfacecolor':(0,0,0,0.4)}\n",
    "\n",
    "x = ds.groupby('time.year').mean('time').year\n",
    "cmap = plt.cm.winter(np.linspace(0,1,3))\n",
    "\n",
    "#-- ice speed\n",
    "ax1 = fig.add_subplot(gs[0,:])\n",
    "icevel_meanJFM = icevel_mean.groupby('time.year').mean('time')\n",
    "l1 = ax1.plot(x, icevel_meanJFM,  **kw1, label='ice speed')\n",
    "ax1.set_ylabel('Ice speed (cm s$^{-1}$)')\n",
    "ax1.set_ylim([3.8, 9.4])\n",
    "ax1.grid(ls='--', alpha=0.4)\n",
    "\n",
    "#-- deformation\n",
    "ax2 = ax1.twinx()\n",
    "#ax2 = fig.add_subplot(gs[1,:])\n",
    "deform_JFM = deformation.groupby('time.year').mean('time')\n",
    "l2 = ax2.plot(x, deform_JFM, **kw1, color='grey', ls='-', label='ice deformation')\n",
    "ax2.set_ylabel('Deformation rate (day$^{-1}$)')\n",
    "ax2.set_ylim([0.025, 0.0825])\n",
    "#ax2.grid(ls='--', alpha=0.4)\n",
    "\n",
    "# added these three lines\n",
    "lns = l1+l2\n",
    "labs = [l.get_label() for l in lns]\n",
    "ax1.legend(lns, labs, loc='lower right', ncols=2, frameon=False, borderpad=1,columnspacing=0.8,handlelength=2)\n",
    "\n",
    "#-- ratio\n",
    "#ax3 = fig.add_subplot(gs[2,:])\n",
    "ax3 = fig.add_subplot(gs[1,:])\n",
    "icewind_ratio_JFM = icewind_ratio.groupby('time.year').mean('time')*100\n",
    "\n",
    "l1=ax3.plot(x, icewind_ratio_JFM, **kw1, label='drift:wind ratio')\n",
    "ax3.set_ylabel('Ice drift / wind speed (%)')\n",
    "ax3.grid(ls='--', alpha=0.4)\n",
    "\n",
    "ax3r = ax3.twinx()\n",
    "wspeed_meanJFM = wspeed_BSmean.groupby('time.year').mean('time')\n",
    "l2 = ax3r.plot(x, wspeed_meanJFM, lw=1.5, color='grey', ls='-', label='wind speed' )\n",
    "ax3r.set_ylabel('Mean wind speed (m s$^{-1}$)')\n",
    "ax3r.set_yticks([5.0, 5.5, 6.0])\n",
    "\n",
    "# added these three lines\n",
    "lns = l1+l2\n",
    "labs = [l.get_label() for l in lns]\n",
    "ax3.legend(lns, labs, loc='lower right', ncols=2,frameon=False, borderpad=1,columnspacing=0.8, handlelength=2)\n",
    "\n",
    "# add figure labels\n",
    "#axes = (ax1,ax2,ax3)\n",
    "#labels = ['a', 'b', 'c']\n",
    "axes = (ax1,ax3)\n",
    "labels = ['a', 'b']\n",
    "\n",
    "# highlight breakup years\n",
    "id_yrs = x[x.isin([2008, 2010, 2013, 2016, 2018])]\n",
    "cbargs = {'color': 'green', 'alpha': 0.4, 'zorder':3, 'marker':\"^\", 'markersize': 15, 'ymax':0.}\n",
    "\n",
    "for ax, lab in zip(axes, labels):\n",
    "    ax.text(0.01, 0.98, lab, transform=ax.transAxes,\n",
    "      fontsize=14, fontweight='bold', va='top')\n",
    "    ax.set_xticks(np.arange(2000,2018+2,2))\n",
    "    [ax.axvline(dto, **cbargs) for dto in id_yrs]\n",
    "\n",
    "plt.show()\n",
    "\n",
    "fig.savefig('../figures/' + f'fig05_iceSpeed_deformation_windFactor_moore22_JFM_2000-2018_v2.png', dpi=300, bbox_inches='tight')\n"
   ]
  },
  {
   "cell_type": "markdown",
   "id": "8a81bd2c-3ae4-4cfb-849b-a4080ad4f0e5",
   "metadata": {},
   "source": [
    "## Plot deformation maps"
   ]
  },
  {
   "cell_type": "code",
   "execution_count": null,
   "id": "efc58020-16c9-48d9-8109-a89d87d58c56",
   "metadata": {},
   "outputs": [],
   "source": [
    "from mpl_toolkits.axes_grid1.inset_locator import inset_axes, zoomed_inset_axes\n",
    "\n",
    "sic_plotargs = {'vmin':60, 'vmax':100, 'cmap': cmocean.cm.ice, 'label':\"SIC (%)\"}\n",
    "shear_plotargs = {'vmin':0, 'vmax':1.5, 'cmap': cmocean.cm.thermal, 'label': \"Shear (day$^{-1}$)\"}\n",
    "div_plotargs =  {'vmin':-0.1, 'vmax':0.1, 'cmap': cmocean.cm.balance, 'label': \"Divergence (day$^{-1}$)\"}\n",
    "\n",
    "plotargs = [sic_plotargs, shear_plotargs, div_plotargs]\n",
    "\n",
    "fig, axs= plt.subplots(1,3, figsize=(15,10))\n",
    "\n",
    "cmap = [cmocean.cm.ice_r,  cmocean.cm.balance,  cmocean.cm.thermal] \n",
    "date = '2018-03-20'\n",
    "for i, var in enumerate([ds['sic']*100, ds.shear, ds.div]): \n",
    "\n",
    "    var = var.sel(time=date)\n",
    "    im=axs[i].imshow(var, **plotargs[i] )\n",
    "    \n",
    "    cax = inset_axes(axs[i],\n",
    "                 width=\"5%\",  # width = 50% of parent_bbox width\n",
    "                 height=\"100%\",  # height : 5%\n",
    "                 loc='lower left',\n",
    "                 bbox_to_anchor=(1.05, 0., 1, 1),\n",
    "                 bbox_transform=axs[i].transAxes,\n",
    "                 borderpad=0)\n",
    "    \n",
    "    clabel = plotargs[i]['label']\n",
    "    plt.colorbar(im, cax=cax, label=clabel)\n",
    "    axs[i].set_title(clabel+ f' {date}')\n",
    "\n",
    "fig.subplots_adjust(bottom=0.01, top=0.98, left=0.02, right=0.86, wspace=0.45, hspace=0.02)\n",
    "plt.show()"
   ]
  },
  {
   "cell_type": "code",
   "execution_count": null,
   "id": "232dddd0-91fe-45c7-9ef8-da17fb3401af",
   "metadata": {},
   "outputs": [],
   "source": []
  }
 ],
 "metadata": {
  "kernelspec": {
   "display_name": "Python 3 (pynextsim)",
   "language": "python",
   "name": "pynextsim"
  },
  "language_info": {
   "codemirror_mode": {
    "name": "ipython",
    "version": 3
   },
   "file_extension": ".py",
   "mimetype": "text/x-python",
   "name": "python",
   "nbconvert_exporter": "python",
   "pygments_lexer": "ipython3",
   "version": "3.11.0"
  }
 },
 "nbformat": 4,
 "nbformat_minor": 5
}
