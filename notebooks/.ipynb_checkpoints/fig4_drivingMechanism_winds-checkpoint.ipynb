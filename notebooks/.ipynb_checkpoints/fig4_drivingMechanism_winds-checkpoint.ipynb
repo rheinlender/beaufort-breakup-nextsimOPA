{
 "cells": [
  {
   "cell_type": "markdown",
   "id": "46effb68-1e25-4d0c-af68-3cc090a5aa8f",
   "metadata": {},
   "source": [
    "## Driving mechanisms of sea ice breakup - winds    "
   ]
  },
  {
   "cell_type": "code",
   "execution_count": 2,
   "id": "0f1f7ccd-42f8-4210-9917-ae7159dd0cd1",
   "metadata": {},
   "outputs": [],
   "source": [
    "%matplotlib inline\n",
    "import sys\n",
    "import xarray as xr\n",
    "import datetime as dt\n",
    "import pandas as pd\n",
    "import numpy as np\n",
    "import cmocean\n",
    "import matplotlib.pyplot as plt\n",
    "import matplotlib.dates as mdates\n",
    "import matplotlib.gridspec as gridspec\n",
    "\n",
    "sys.path.append('../src')\n",
    "from pynextsim.projection_info import ProjectionInfo\n",
    "from brkup_utils import lead_detect as lead_det\n",
    "from brkup_utils import process_data\n",
    "from brkup_utils import mask_funcs as msk\n",
    "from brkup_utils import grid_funcs as grd \n",
    "from brkup_utils.openerEra5 import OpenerEra5\n",
    "from brkup_utils.boxnames import *"
   ]
  },
  {
   "cell_type": "code",
   "execution_count": 3,
   "id": "5664608f-0457-435b-80f4-c72a2763c0c8",
   "metadata": {},
   "outputs": [
    {
     "name": "stdout",
     "output_type": "stream",
     "text": [
      "months: ['01', '02', '03']\n",
      "years: [2000, 2001, 2002, 2003, 2004, 2005, 2006, 2007, 2008, 2009, 2010, 2011, 2012, 2013, 2014, 2015, 2016, 2017, 2018]\n",
      "bbox for Beaufort : (95, 225, 425, 575)\n",
      "DONE!\n"
     ]
    }
   ],
   "source": [
    "# read moorings \n",
    "indir = '/home/rheinlender/shared-simstore-ns9829k/NANUK/NANUK025-ILBOXE140-S/'    \n",
    "\n",
    "months = ['01', '02', '03']\n",
    "years = list(range(2000, 2018+1))\n",
    "region='Beaufort'\n",
    "\n",
    "# subset Beaufort Sea\n",
    "ds = process_data.load_moorings(indir,months,years,region='Beaufort',period=None)\n",
    "\n",
    "# daily average\n",
    "\n",
    "# set all dates to have time at 00h so multiple measurements in a day have the same label\n",
    "ds.coords['time'] = ds.time.dt.floor('1D')\n",
    "ds = ds.groupby('time').mean()"
   ]
  },
  {
   "cell_type": "code",
   "execution_count": 4,
   "id": "8a782885-0052-4f27-b571-4ddc499ee247",
   "metadata": {},
   "outputs": [],
   "source": [
    "# create masks\n",
    "bbox = BOXNAMES[region]\n",
    "Mask = msk.Masking(ds, bbox=bbox)\n",
    "msk_moore22 = Mask.get_Moore2022_Beaufort_mask()\n",
    "\n",
    "# get area info from model grid and add to dataset\n",
    "creg_grid = grd.CREGgrid('../grid_files', bbox)\n",
    "ds['mod_area'] = (('y','x'), creg_grid.get_area())\n",
    "ds['mod_area'].attrs = {'units':'m2', 'long_name':'grid_cell_area'}\n"
   ]
  },
  {
   "cell_type": "markdown",
   "id": "77c70d12-1ee1-44b1-b096-52e5c1c873ef",
   "metadata": {
    "tags": []
   },
   "source": [
    "## Get winds from daily ERA5 data"
   ]
  },
  {
   "cell_type": "code",
   "execution_count": 5,
   "id": "d0639728-cb0f-4182-b216-c9a5f629e181",
   "metadata": {},
   "outputs": [],
   "source": [
    "\n",
    "# Load daily ERA5 data\n",
    "varname=['u10', 'v10', 'msl']\n",
    "year0 = 2000\n",
    "year1 = 2018\n",
    "\n",
    "era_file = []\n",
    "for var in varname:\n",
    "    # create the opener\n",
    "    op = OpenerEra5(var)\n",
    "\n",
    "    for year in range(year0, year1+1):\n",
    "\n",
    "        # get the file name\n",
    "        dto = dt.datetime(year,1,1)\n",
    "        era_file.append(op.find(dto))\n",
    "\n",
    "ds_era5 = xr.open_mfdataset(era_file, parallel=True, engine='netcdf4',chunks={'time':-1,'y': 300, 'x':250})\n",
    "\n",
    "# get lon/lat\n",
    "lat_e = ds_era5.latitude.values\n",
    "lon_e = ds_era5.longitude.values\n",
    "    \n",
    "# get winter months from daily data\n",
    "months=[1,2,3]\n",
    "#ds_era5 = ds_era5.sel(time = np.in1d(ds['time.month'], months), drop=True)\n",
    "\n",
    "#-- Extract transect from 70-75N along 150W\n",
    "ds_slice = ds_era5.sel(time = np.in1d(ds_era5['time.month'], months), \n",
    "                       longitude=360-150, \n",
    "                       latitude=slice(75,70), \n",
    "                       drop=True)\n",
    "u = ds_slice.u10\n",
    "v = ds_slice.v10\n",
    "\n",
    "#-- Compute the wind speed (magnitude)\n",
    "wind_speed = np.sqrt(u**2 + v**2)\n",
    "\n",
    "#-- SLP difference between 75N and 70N \n",
    "slp_diff = (ds_slice.msl.sel(latitude=75) -  ds_slice.msl.sel(latitude=70)) *1E-2 # hPa\n",
    "\n",
    "# -- compute averages\n",
    "wind_speedavg = np.mean(wind_speed, axis=(-1))\n",
    "wind_speedmax = np.max(wind_speed, axis=(-1))\n",
    "\n",
    "slp_diffmean = slp_diff.groupby('time.year').mean('time') # 2000-2018 mean (JFM)\n",
    "slp_diffstd = slp_diff.groupby('time.year').std('time')   # 2000-2018 standard deviation (JFM)\n",
    "\n",
    "upper_lim = slp_diffmean.values + slp_diffstd.values      # mean+1STD\n"
   ]
  },
  {
   "cell_type": "markdown",
   "id": "bb07cdd4-38e8-4d32-bb0c-e05fa2f821c7",
   "metadata": {
    "tags": []
   },
   "source": [
    "## Duration of strong winds (>8.5 m/s)\n",
    "\n",
    "Calculates the number of days during the winter season where the **daily** wind exceeds a threshold of 8.5 m/s (roughly one STD above the mean)   "
   ]
  },
  {
   "cell_type": "code",
   "execution_count": 6,
   "id": "e90d09df-7c12-4692-b0b4-0bb977141beb",
   "metadata": {},
   "outputs": [
    {
     "name": "stdout",
     "output_type": "stream",
     "text": [
      "Wind sthreshold: 8.503173 m/s\n"
     ]
    }
   ],
   "source": [
    "## Duration (in days) with strong winds\n",
    "\n",
    "var = wind_speedavg\n",
    "_mean = var.mean(axis=0).values # climatology of JFM-mean values\n",
    "_std = var.std(axis=0).values # standard deviation of JFM values\n",
    "\n",
    "#wind_thrshold = 8\n",
    "wind_thrshold = _mean + _std\n",
    "\n",
    "print(\"Wind sthreshold:\", wind_thrshold, \"m/s\")\n",
    "\n",
    "n_days = []\n",
    "for yr in range(2000, 2019):\n",
    "    sel=wind_speedavg.sel(time=str(yr))\n",
    "    ndaysum = xr.where(sel>wind_thrshold, 1, 0).sum('time').values\n",
    "    n_days.append(ndaysum)\n",
    "\n",
    "years = wind_speedavg.groupby('time.year').mean('time').year\n",
    "wind_duration = xr.DataArray(n_days,\n",
    "                             coords={'time': years}, \n",
    "                             dims=[\"year\"])\n"
   ]
  },
  {
   "cell_type": "markdown",
   "id": "59ef7e0f-880b-4590-9c9c-691ab78e7f3d",
   "metadata": {
    "tags": []
   },
   "source": [
    "## Beaufort lead fraction"
   ]
  },
  {
   "cell_type": "code",
   "execution_count": 7,
   "id": "95c354bb-b5a1-4200-baaf-00cc4b7b3b47",
   "metadata": {},
   "outputs": [
    {
     "name": "stdout",
     "output_type": "stream",
     "text": [
      "JFM-average LAF: 0.1945887053449649\n",
      "JFM standard deviation LAF: 0.036829880268745806\n"
     ]
    }
   ],
   "source": [
    "# Calculate lead area fraction\n",
    "clim=0.05\n",
    "leadfrac, leadmask = lead_det.map_leads(ds, 'breakup_paper', clim)\n",
    "    \n",
    "# daily lead area frac in Beaufort Sea\n",
    "lfa = leadmask.where(msk_moore22).mean(dim=('x', 'y'))\n",
    "\n",
    "#lfa_daily = lfa.groupby('time.date').mean()\n",
    "\n",
    "lfa_JFM = lfa.groupby('time.year').mean('time')\n",
    "\n",
    "# Normalized lead fraction\n",
    "lfa_JFMmean = lfa_JFM.mean('year')\n",
    "lfa_JFMstd = lfa_JFM.std('year')\n",
    "lfa_JFMnorm = (lfa_JFM - lfa_JFMmean)/ lfa_JFMstd\n",
    "\n",
    "print(\"JFM-average LAF:\", lfa_JFMmean.values)\n",
    "print(\"JFM standard deviation LAF:\", lfa_JFMstd.values)"
   ]
  },
  {
   "cell_type": "markdown",
   "id": "43a88c72-8cc6-4f91-bb21-27d67670f191",
   "metadata": {},
   "source": [
    "# Winds"
   ]
  },
  {
   "cell_type": "code",
   "execution_count": 8,
   "id": "0251be31-70da-486b-a204-fa7653852a50",
   "metadata": {},
   "outputs": [
    {
     "name": "stderr",
     "output_type": "stream",
     "text": [
      "/opt/conda/envs/pynextsim/lib/python3.11/site-packages/cartopy/mpl/geoaxes.py:406: UserWarning: The `map_projection` keyword argument is deprecated, use `projection` to instantiate a GeoAxes instead.\n",
      "  warnings.warn(\"The `map_projection` keyword argument is \"\n"
     ]
    },
    {
     "data": {
      "image/png": "[encoded data removed]",
      "text/plain": [
       "<Figure size 500x800 with 2 Axes>"
      ]
     },
     "metadata": {},
     "output_type": "display_data"
    }
   ],
   "source": [
    "def plot_daily_winds(ax, plotvar):\n",
    "    \n",
    "    import cartopy\n",
    "    import cartopy.crs as ccrs\n",
    "    import cartopy.feature as cfeature\n",
    "    from cartopy.mpl.geoaxes import GeoAxes\n",
    "    from mpl_toolkits.axes_grid1.inset_locator import inset_axes\n",
    "\n",
    "    start_date = dt.datetime.strptime(\"2000-02-15\", \"%Y-%m-%d\")\n",
    "    date_list = pd.date_range(start_date, periods=19, freq=pd.DateOffset(years=1))\n",
    "\n",
    "    _mean = plotvar.mean(axis=0).values # climatology of JFM-mean values\n",
    "    _std = plotvar.std(axis=0).values # standard deviation of JFM values\n",
    "\n",
    "    plot_crs = ccrs.NorthPolarStereo(central_longitude=-140, true_scale_latitude=60)\n",
    "\n",
    "    for y in range(2000,2019):\n",
    "        tmp = plotvar.sel(time=str(y), drop=True)\n",
    "        ax.plot(tmp.time, tmp, color='black', alpha=0.3, lw=0.8)\n",
    "\n",
    "    ax.axhline(y=_mean, ls='-', color='black', alpha=1, lw=0.8, zorder=1)\n",
    "    ax.axhline(y=_mean - _std, ls='--', color='black', alpha=1, lw=0.8, zorder=1)\n",
    "    ax.axhline(y=_mean + _std, ls='--', color='black', alpha=1, lw=0.8, zorder=1)\n",
    "\n",
    "    y = plotvar.groupby('time.year').mean('time') # JFM-mean\n",
    "    h1 = ax.plot(date_list, y, ls='None', marker='o', markersize=5, markeredgecolor='C0', markerfacecolor=(0,0,0.5,.2))\n",
    "    #ax.legend()\n",
    "\n",
    "    # Inset map\n",
    "    axins = inset_axes(ax, width=\"45%\", height=\"45%\", loc=\"lower left\", \n",
    "                       axes_class=GeoAxes, \n",
    "                       axes_kwargs=dict(map_projection=plot_crs),\n",
    "                       bbox_to_anchor=(0.72,0.58,1,1), bbox_transform=ax.transAxes)\n",
    "\n",
    "    axins.set_extent([-155, -120, 68, 78], ccrs.PlateCarree())\n",
    "    axins.add_feature(cfeature.LAND, facecolor=cfeature.COLORS['land'], zorder=1)\n",
    "    axins.coastlines(resolution=\"50m\",linewidth=0.1)\n",
    "    gl = axins.gridlines(crs=ccrs.PlateCarree(), draw_labels=False, linewidth=0.5, color='black', linestyle='--', alpha=0.2)   \n",
    "\n",
    "    axins.plot([-150, -150], [70, 75], transform=ccrs.PlateCarree())\n",
    "    axins.patch.set_alpha(0.8)\n",
    "\n",
    "    return fig, ax\n",
    "\n",
    "# testing\n",
    "fig = plt.figure(figsize=(5,8), constrained_layout=False)\n",
    "gs = fig.add_gridspec(nrows=4, ncols=1, left=0.01, right=0.99, wspace=0.3, hspace=0.3)\n",
    "ax2 = fig.add_subplot(gs[1,:])\n",
    "plot_daily_winds(ax2, wind_speedavg)\n",
    "fig.savefig('../figures/' + f'fig04a_meanWspeed_daily_150W70-75N_2000-2018.png', dpi=300, bbox_inches='tight')\n"
   ]
  },
  {
   "cell_type": "markdown",
   "id": "ac450bbb-b2be-4474-a041-5063f489dd51",
   "metadata": {},
   "source": [
    "# Plot Figure 4"
   ]
  },
  {
   "cell_type": "code",
   "execution_count": null,
   "id": "fd1a0ac4-3b7e-448d-b997-6136a2381bd2",
   "metadata": {},
   "outputs": [
    {
     "name": "stderr",
     "output_type": "stream",
     "text": [
      "/opt/conda/envs/pynextsim/lib/python3.11/site-packages/cartopy/mpl/geoaxes.py:406: UserWarning: The `map_projection` keyword argument is deprecated, use `projection` to instantiate a GeoAxes instead.\n",
      "  warnings.warn(\"The `map_projection` keyword argument is \"\n"
     ]
    }
   ],
   "source": [
    "\n",
    "fig = plt.figure(figsize=(5,8), constrained_layout=False)\n",
    "gs = fig.add_gridspec(nrows=4, ncols=1, left=0.01, right=0.99, wspace=0.3, hspace=0.3)\n",
    "\n",
    "kw={'alpha': 1, 'linewidth':1, 'marker':'o', 'markersize':5, 'markeredgecolor':'C0'}\n",
    "kw1={'alpha': 1, 'linewidth':1.5, 'marker':'o', 'markersize':5, 'markerfacecolor':'None'}\n",
    "kw2={'alpha': 1, 'linewidth':1, 'marker':'o', 'markersize':5, 'markerfacecolor':'None'}\n",
    "\n",
    "\n",
    "x = wind_speedavg.groupby('time.year').mean('time').year\n",
    "cmap = plt.cm.winter(np.linspace(0,1,3))\n",
    "\n",
    "#####1 normalized lead fraction\n",
    "ax1 = fig.add_subplot(gs[0,:])\n",
    "ax1.set_ylabel('Normalized fraction');\n",
    "ax1.plot(x, lfa_JFMnorm, **kw1)\n",
    "ax1.axhline(y=0, lw=1, color='k', alpha=.7)\n",
    "ax1.set_yticks([-2, -1, 0, 1, 2])\n",
    "ax1.set_xticks(np.arange(2000,2018+2,2));\n",
    "\n",
    "#####2 daily winds\n",
    "ax2 = fig.add_subplot(gs[1,:])\n",
    "plot_daily_winds(ax2, wind_speedavg)\n",
    "ax2.set_ylim([1, 19])\n",
    "ax2.set_ylabel('Wind speed (m s$^{-1}$)')\n",
    "\n",
    "\n",
    "#####3 monthly winds \n",
    "ax3 = fig.add_subplot(gs[2,:])\n",
    "ax3.set_ylabel('Wind speed (m s$^{-1}$)');\n",
    "ax3.set_xticks(np.arange(2000,2018+2,2));\n",
    "\n",
    "wspeed_mean_monthly = process_data.monthly_mean_by_year(wind_speedavg)\n",
    "\n",
    "ax3.plot(x, wspeed_mean_monthly.sel(time_level_1=1), label='Jan', **kw2, color=cmap[0])\n",
    "ax3.plot(x, wspeed_mean_monthly.sel(time_level_1=2), label='Feb', **kw2, color=cmap[1])\n",
    "ax3.plot(x, wspeed_mean_monthly.sel(time_level_1=3), label='Mar', **kw2, color=cmap[2])\n",
    "ax3.legend(ncol=3, loc='upper center')\n",
    "                \n",
    "#####4 duration of strong winds\n",
    "ax4 = fig.add_subplot(gs[3,:])\n",
    "ax4.set_ylabel('Duration (days)', color='darkorange')\n",
    "ax4.set_xticks(np.arange(2000,2018+2,2));\n",
    "\n",
    "_mean = wind_duration.mean()\n",
    "_std = wind_duration.std()\n",
    "\n",
    "ax4.bar(x, wind_duration, width=0.5, alpha=0.5, color='orange', zorder=0)\n",
    "ax4.axhline(y=_mean, ls='-', color='darkorange', alpha=1, lw=0.8, zorder=1)\n",
    "ax4.axhline(y=_mean - _std, ls='--', color='darkorange', alpha=1, lw=0.8, zorder=1)\n",
    "ax4.axhline(y=_mean + _std, ls='--', color='darkorange', alpha=1, lw=0.8, zorder=1)\n",
    "\n",
    "##-add plot of JFM-mean winds\n",
    "add_ax = ax4.twinx()\n",
    "add_ax.plot(x, wind_speedavg.groupby('time.year').mean('time'), color='black', lw=1.5, zorder=10, label='JFM winds') #JFM mean \n",
    "add_ax.legend(loc='upper center')\n",
    "\n",
    "# add figure labels\n",
    "axes = (ax1,ax2,ax3,ax4)\n",
    "labels = ['a', 'b', 'c', 'd']\n",
    "for ax, lab in zip(axes, labels):\n",
    "    ax.text(0.02, 0.98, lab, transform=ax.transAxes,\n",
    "      fontsize=14, fontweight='bold', va='top')\n",
    "    ax.grid(ls='--', alpha=0.4)\n",
    "  #  ax.set_xticks(np.arange(2000,2018+3,3));\n",
    "\n",
    "# highlight breakup years\n",
    "id_yrs = x[x.year.isin([2008, 2010, 2013, 2016, 2018])]\n",
    "cbargs = {'color': 'green', 'alpha': 0.5, 'zorder':3, 'marker':\"^\", 'markersize': 15, 'ymax':0.}\n",
    "[ax1.axvline(dto, **cbargs) for dto in id_yrs]\n",
    "\n",
    "fig.savefig('../figures/' + f'fig04_leadFrac_meanWspeed_150W70-75N_2000-2018.png', dpi=300, bbox_inches='tight')\n"
   ]
  },
  {
   "cell_type": "code",
   "execution_count": null,
   "id": "fc1731c3-6bbf-4822-b818-197c37d85bd0",
   "metadata": {},
   "outputs": [],
   "source": []
  }
 ],
 "metadata": {
  "kernelspec": {
   "display_name": "Python 3 (pynextsim)",
   "language": "python",
   "name": "pynextsim"
  },
  "language_info": {
   "codemirror_mode": {
    "name": "ipython",
    "version": 3
   },
   "file_extension": ".py",
   "mimetype": "text/x-python",
   "name": "python",
   "nbconvert_exporter": "python",
   "pygments_lexer": "ipython3",
   "version": "3.11.0"
  }
 },
 "nbformat": 4,
 "nbformat_minor": 5
}
